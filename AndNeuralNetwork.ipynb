import numpy as np
from keras.models import Sequential
from keras.layers import Dense

# Define the AND gate truth table
input_data = np.array([[0, 0], [0, 1], [1, 0], [1, 1]])
output_data = np.array([[0], [0], [0], [1]])

# Create a simple neural network model
model = Sequential()
model.add(Dense(1, input_dim=2, activation='sigmoid'))

# Compile the model
model.compile(loss='mean_squared_error', optimizer='adam', metrics=['accuracy'])

# Train the model
model.fit(input_data, output_data, epochs=1000,verbose=0)

# Evaluate the model
loss, accuracy = model.evaluate(input_data, output_data)
print(f"Accuracy: {accuracy*100:.2f}%")

# Test the AND gate
print("AND Gate Predictions:")
print("0 AND 0 =", model.predict(np.array([[0, 0]]))[0][0])
print("0 AND 1 =", model.predict(np.array([[0, 1]]))[0][0])
print("1 AND 0 =", model.predict(np.array([[1, 0]]))[0][0])
print("1 AND 1 =", model.predict(np.array([[1, 1]]))[0][0])
